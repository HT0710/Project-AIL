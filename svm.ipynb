{
 "cells": [
  {
   "cell_type": "code",
   "execution_count": 1,
   "metadata": {},
   "outputs": [],
   "source": [
    "import numpy as np\n",
    "import pandas as pd\n",
    "from matplotlib import pyplot as plt\n",
    "from sklearn.metrics import classification_report, plot_confusion_matrix\n",
    "from sklearn.model_selection import train_test_split\n",
    "from sklearn.svm import SVC\n",
    "import warnings as warn"
   ]
  },
  {
   "cell_type": "markdown",
   "metadata": {},
   "source": [
    "# Setting ignore as a parameter"
   ]
  },
  {
   "cell_type": "code",
   "execution_count": 2,
   "metadata": {},
   "outputs": [],
   "source": [
    "warn.filterwarnings('ignore')"
   ]
  },
  {
   "cell_type": "markdown",
   "metadata": {},
   "source": [
    "# Load data from .csv or .xlsx files"
   ]
  },
  {
   "cell_type": "code",
   "execution_count": 3,
   "metadata": {},
   "outputs": [
    {
     "data": {
      "text/plain": "     Attractive Level  Sound  Music  Noise control  Speaking Style  Camera  \\\n0                   3      4      4              3               4       4   \n1                   2      3      3              1               3       3   \n2                   4      4      4              2               3       4   \n3                   2      2      2              1               3       3   \n4                   2      3      3              2               3       3   \n..                ...    ...    ...            ...             ...     ...   \n130                 4      4      3              3               4       4   \n131                 3      3      3              3               3       3   \n132                 4      4      4              2               4       4   \n133                 2      3      3              3               3       3   \n134                 4      5      5              4               5       5   \n\n     Stable  Angel diversity  Images  Resolution  Color  Content  \\\n0         4                1       5           4      5        4   \n1         2                1       3           3      3        3   \n2         4                1       4           5      4        4   \n3         4                1       2           4      1        3   \n4         4                0       3           4      2        3   \n..      ...              ...     ...         ...    ...      ...   \n130       3                1       4           4      4        4   \n131       4                1       3           4      3        3   \n132       4                1       4           4      4        4   \n133       3                1       4           4      4        2   \n134       5                1       4           4      4        5   \n\n     Introduction  Food description  Reviewer  Reviewer emotion  \\\n0               1                 1         3                 2   \n1               1                 1         3                 3   \n2               1                 1         4                 3   \n3               1                 0         2                 2   \n4               1                 0         3                 2   \n..            ...               ...       ...               ...   \n130             1                 1         4                 3   \n131             1                 1         3                 2   \n132             1                 1         4                 3   \n133             1                 1         4                 2   \n134             1                 1         5                 3   \n\n     Recommendation  Clear information  \n0                 0                  1  \n1                 1                  1  \n2                 1                  1  \n3                 0                  1  \n4                 0                  0  \n..              ...                ...  \n130               1                  1  \n131               0                  1  \n132               1                  1  \n133               0                  1  \n134               1                  1  \n\n[135 rows x 18 columns]",
      "text/html": "<div>\n<style scoped>\n    .dataframe tbody tr th:only-of-type {\n        vertical-align: middle;\n    }\n\n    .dataframe tbody tr th {\n        vertical-align: top;\n    }\n\n    .dataframe thead th {\n        text-align: right;\n    }\n</style>\n<table border=\"1\" class=\"dataframe\">\n  <thead>\n    <tr style=\"text-align: right;\">\n      <th></th>\n      <th>Attractive Level</th>\n      <th>Sound</th>\n      <th>Music</th>\n      <th>Noise control</th>\n      <th>Speaking Style</th>\n      <th>Camera</th>\n      <th>Stable</th>\n      <th>Angel diversity</th>\n      <th>Images</th>\n      <th>Resolution</th>\n      <th>Color</th>\n      <th>Content</th>\n      <th>Introduction</th>\n      <th>Food description</th>\n      <th>Reviewer</th>\n      <th>Reviewer emotion</th>\n      <th>Recommendation</th>\n      <th>Clear information</th>\n    </tr>\n  </thead>\n  <tbody>\n    <tr>\n      <th>0</th>\n      <td>3</td>\n      <td>4</td>\n      <td>4</td>\n      <td>3</td>\n      <td>4</td>\n      <td>4</td>\n      <td>4</td>\n      <td>1</td>\n      <td>5</td>\n      <td>4</td>\n      <td>5</td>\n      <td>4</td>\n      <td>1</td>\n      <td>1</td>\n      <td>3</td>\n      <td>2</td>\n      <td>0</td>\n      <td>1</td>\n    </tr>\n    <tr>\n      <th>1</th>\n      <td>2</td>\n      <td>3</td>\n      <td>3</td>\n      <td>1</td>\n      <td>3</td>\n      <td>3</td>\n      <td>2</td>\n      <td>1</td>\n      <td>3</td>\n      <td>3</td>\n      <td>3</td>\n      <td>3</td>\n      <td>1</td>\n      <td>1</td>\n      <td>3</td>\n      <td>3</td>\n      <td>1</td>\n      <td>1</td>\n    </tr>\n    <tr>\n      <th>2</th>\n      <td>4</td>\n      <td>4</td>\n      <td>4</td>\n      <td>2</td>\n      <td>3</td>\n      <td>4</td>\n      <td>4</td>\n      <td>1</td>\n      <td>4</td>\n      <td>5</td>\n      <td>4</td>\n      <td>4</td>\n      <td>1</td>\n      <td>1</td>\n      <td>4</td>\n      <td>3</td>\n      <td>1</td>\n      <td>1</td>\n    </tr>\n    <tr>\n      <th>3</th>\n      <td>2</td>\n      <td>2</td>\n      <td>2</td>\n      <td>1</td>\n      <td>3</td>\n      <td>3</td>\n      <td>4</td>\n      <td>1</td>\n      <td>2</td>\n      <td>4</td>\n      <td>1</td>\n      <td>3</td>\n      <td>1</td>\n      <td>0</td>\n      <td>2</td>\n      <td>2</td>\n      <td>0</td>\n      <td>1</td>\n    </tr>\n    <tr>\n      <th>4</th>\n      <td>2</td>\n      <td>3</td>\n      <td>3</td>\n      <td>2</td>\n      <td>3</td>\n      <td>3</td>\n      <td>4</td>\n      <td>0</td>\n      <td>3</td>\n      <td>4</td>\n      <td>2</td>\n      <td>3</td>\n      <td>1</td>\n      <td>0</td>\n      <td>3</td>\n      <td>2</td>\n      <td>0</td>\n      <td>0</td>\n    </tr>\n    <tr>\n      <th>...</th>\n      <td>...</td>\n      <td>...</td>\n      <td>...</td>\n      <td>...</td>\n      <td>...</td>\n      <td>...</td>\n      <td>...</td>\n      <td>...</td>\n      <td>...</td>\n      <td>...</td>\n      <td>...</td>\n      <td>...</td>\n      <td>...</td>\n      <td>...</td>\n      <td>...</td>\n      <td>...</td>\n      <td>...</td>\n      <td>...</td>\n    </tr>\n    <tr>\n      <th>130</th>\n      <td>4</td>\n      <td>4</td>\n      <td>3</td>\n      <td>3</td>\n      <td>4</td>\n      <td>4</td>\n      <td>3</td>\n      <td>1</td>\n      <td>4</td>\n      <td>4</td>\n      <td>4</td>\n      <td>4</td>\n      <td>1</td>\n      <td>1</td>\n      <td>4</td>\n      <td>3</td>\n      <td>1</td>\n      <td>1</td>\n    </tr>\n    <tr>\n      <th>131</th>\n      <td>3</td>\n      <td>3</td>\n      <td>3</td>\n      <td>3</td>\n      <td>3</td>\n      <td>3</td>\n      <td>4</td>\n      <td>1</td>\n      <td>3</td>\n      <td>4</td>\n      <td>3</td>\n      <td>3</td>\n      <td>1</td>\n      <td>1</td>\n      <td>3</td>\n      <td>2</td>\n      <td>0</td>\n      <td>1</td>\n    </tr>\n    <tr>\n      <th>132</th>\n      <td>4</td>\n      <td>4</td>\n      <td>4</td>\n      <td>2</td>\n      <td>4</td>\n      <td>4</td>\n      <td>4</td>\n      <td>1</td>\n      <td>4</td>\n      <td>4</td>\n      <td>4</td>\n      <td>4</td>\n      <td>1</td>\n      <td>1</td>\n      <td>4</td>\n      <td>3</td>\n      <td>1</td>\n      <td>1</td>\n    </tr>\n    <tr>\n      <th>133</th>\n      <td>2</td>\n      <td>3</td>\n      <td>3</td>\n      <td>3</td>\n      <td>3</td>\n      <td>3</td>\n      <td>3</td>\n      <td>1</td>\n      <td>4</td>\n      <td>4</td>\n      <td>4</td>\n      <td>2</td>\n      <td>1</td>\n      <td>1</td>\n      <td>4</td>\n      <td>2</td>\n      <td>0</td>\n      <td>1</td>\n    </tr>\n    <tr>\n      <th>134</th>\n      <td>4</td>\n      <td>5</td>\n      <td>5</td>\n      <td>4</td>\n      <td>5</td>\n      <td>5</td>\n      <td>5</td>\n      <td>1</td>\n      <td>4</td>\n      <td>4</td>\n      <td>4</td>\n      <td>5</td>\n      <td>1</td>\n      <td>1</td>\n      <td>5</td>\n      <td>3</td>\n      <td>1</td>\n      <td>1</td>\n    </tr>\n  </tbody>\n</table>\n<p>135 rows × 18 columns</p>\n</div>"
     },
     "execution_count": 3,
     "metadata": {},
     "output_type": "execute_result"
    }
   ],
   "source": [
    "data = pd.read_csv('dataset.csv')\n",
    "data"
   ]
  },
  {
   "cell_type": "markdown",
   "metadata": {},
   "source": [
    "# Data set (Features and labels)"
   ]
  },
  {
   "cell_type": "code",
   "execution_count": 4,
   "metadata": {},
   "outputs": [],
   "source": [
    "features = data.loc[:, data.columns != \"Attractive Level\"].values\n",
    "labels = data.loc[:, data.columns == \"Attractive Level\"].values"
   ]
  },
  {
   "cell_type": "code",
   "execution_count": 5,
   "metadata": {},
   "outputs": [
    {
     "data": {
      "text/plain": "array([[4, 4, 3, ..., 2, 0, 1],\n       [3, 3, 1, ..., 3, 1, 1],\n       [4, 4, 2, ..., 3, 1, 1],\n       ...,\n       [4, 4, 2, ..., 3, 1, 1],\n       [3, 3, 3, ..., 2, 0, 1],\n       [5, 5, 4, ..., 3, 1, 1]])"
     },
     "execution_count": 5,
     "metadata": {},
     "output_type": "execute_result"
    }
   ],
   "source": [
    "features"
   ]
  },
  {
   "cell_type": "code",
   "execution_count": 6,
   "metadata": {},
   "outputs": [
    {
     "data": {
      "text/plain": "array([[3],\n       [2],\n       [4],\n       [2],\n       [2],\n       [3],\n       [4],\n       [3],\n       [4],\n       [2],\n       [4],\n       [3],\n       [4],\n       [3],\n       [4],\n       [2],\n       [5],\n       [4],\n       [4],\n       [4],\n       [3],\n       [3],\n       [5],\n       [3],\n       [3],\n       [3],\n       [5],\n       [3],\n       [3],\n       [3],\n       [4],\n       [2],\n       [2],\n       [3],\n       [4],\n       [4],\n       [2],\n       [2],\n       [2],\n       [5],\n       [3],\n       [5],\n       [3],\n       [3],\n       [3],\n       [2],\n       [2],\n       [3],\n       [4],\n       [1],\n       [4],\n       [3],\n       [2],\n       [2],\n       [3],\n       [4],\n       [2],\n       [3],\n       [4],\n       [2],\n       [5],\n       [4],\n       [5],\n       [3],\n       [4],\n       [3],\n       [2],\n       [4],\n       [4],\n       [3],\n       [2],\n       [3],\n       [3],\n       [3],\n       [4],\n       [5],\n       [3],\n       [4],\n       [3],\n       [4],\n       [3],\n       [3],\n       [4],\n       [2],\n       [4],\n       [5],\n       [5],\n       [5],\n       [4],\n       [3],\n       [1],\n       [4],\n       [3],\n       [3],\n       [4],\n       [4],\n       [3],\n       [3],\n       [3],\n       [4],\n       [4],\n       [3],\n       [3],\n       [2],\n       [2],\n       [1],\n       [2],\n       [2],\n       [4],\n       [5],\n       [2],\n       [2],\n       [3],\n       [4],\n       [4],\n       [4],\n       [2],\n       [4],\n       [4],\n       [5],\n       [4],\n       [2],\n       [5],\n       [5],\n       [2],\n       [3],\n       [4],\n       [2],\n       [4],\n       [1],\n       [4],\n       [3],\n       [4],\n       [2],\n       [4]])"
     },
     "execution_count": 6,
     "metadata": {},
     "output_type": "execute_result"
    }
   ],
   "source": [
    "labels"
   ]
  },
  {
   "cell_type": "markdown",
   "metadata": {},
   "source": [
    "# Split dataset into train_set and test_set"
   ]
  },
  {
   "cell_type": "code",
   "execution_count": 7,
   "metadata": {},
   "outputs": [],
   "source": [
    "X_train, X_test, y_train, y_test = train_test_split(features, labels, test_size=0.2, random_state = 42)"
   ]
  },
  {
   "cell_type": "code",
   "execution_count": 8,
   "metadata": {},
   "outputs": [
    {
     "data": {
      "text/plain": "array([[5, 4, 4, ..., 3, 0, 0],\n       [5, 4, 5, ..., 3, 1, 1],\n       [3, 3, 3, ..., 2, 0, 0],\n       ...,\n       [3, 3, 2, ..., 3, 1, 1],\n       [2, 2, 2, ..., 3, 0, 0],\n       [1, 1, 3, ..., 2, 1, 1]])"
     },
     "execution_count": 8,
     "metadata": {},
     "output_type": "execute_result"
    }
   ],
   "source": [
    "X_train"
   ]
  },
  {
   "cell_type": "code",
   "execution_count": 9,
   "metadata": {},
   "outputs": [
    {
     "data": {
      "text/plain": "array([[3, 4, 3, 3, 4, 4, 1, 3, 4, 3, 3, 1, 0, 3, 3, 0, 0],\n       [4, 4, 4, 3, 4, 5, 1, 4, 4, 3, 4, 1, 1, 4, 3, 1, 1],\n       [2, 1, 2, 3, 3, 3, 0, 3, 4, 3, 1, 0, 0, 2, 1, 0, 0],\n       [4, 3, 4, 5, 5, 5, 1, 4, 4, 4, 5, 1, 1, 4, 3, 1, 1],\n       [3, 4, 3, 3, 3, 3, 1, 3, 4, 3, 4, 1, 1, 3, 2, 0, 1],\n       [5, 5, 4, 5, 5, 5, 1, 5, 4, 5, 4, 1, 1, 5, 3, 1, 1],\n       [4, 4, 4, 5, 4, 4, 1, 4, 4, 4, 4, 1, 1, 4, 3, 1, 1],\n       [4, 3, 4, 4, 2, 2, 0, 2, 4, 3, 3, 1, 0, 2, 2, 0, 1],\n       [3, 4, 3, 3, 3, 3, 1, 3, 5, 3, 3, 1, 0, 3, 3, 0, 1],\n       [3, 3, 3, 4, 4, 3, 1, 3, 4, 3, 4, 1, 1, 4, 3, 0, 1],\n       [2, 1, 2, 3, 3, 3, 1, 4, 4, 3, 3, 1, 0, 3, 3, 0, 1],\n       [3, 3, 2, 3, 3, 2, 1, 3, 3, 3, 4, 1, 1, 4, 3, 0, 1],\n       [3, 3, 3, 3, 3, 4, 1, 3, 3, 3, 4, 1, 1, 3, 3, 0, 1],\n       [4, 4, 4, 4, 4, 4, 1, 4, 4, 4, 5, 1, 1, 4, 3, 0, 1],\n       [5, 4, 3, 5, 5, 5, 1, 5, 3, 4, 5, 1, 1, 5, 3, 1, 1],\n       [3, 2, 2, 4, 2, 1, 1, 3, 4, 3, 3, 1, 0, 4, 3, 0, 1],\n       [2, 3, 2, 4, 4, 3, 1, 3, 4, 3, 3, 1, 0, 3, 3, 0, 1],\n       [3, 3, 2, 3, 3, 4, 0, 3, 4, 2, 3, 1, 0, 3, 2, 0, 0],\n       [3, 4, 3, 4, 4, 4, 1, 4, 4, 4, 4, 1, 0, 3, 3, 0, 1],\n       [3, 3, 2, 3, 4, 4, 1, 4, 5, 3, 3, 1, 1, 3, 2, 1, 1],\n       [4, 4, 4, 5, 5, 5, 1, 5, 4, 5, 4, 1, 1, 5, 3, 1, 1],\n       [5, 5, 5, 5, 5, 5, 1, 5, 4, 5, 5, 1, 1, 5, 3, 1, 1],\n       [5, 4, 5, 5, 5, 5, 1, 5, 4, 5, 5, 1, 1, 5, 3, 1, 1],\n       [4, 4, 3, 4, 4, 4, 1, 4, 4, 4, 4, 1, 1, 4, 3, 0, 1],\n       [4, 4, 4, 3, 5, 5, 1, 4, 4, 4, 5, 1, 1, 4, 2, 1, 1],\n       [2, 1, 3, 2, 3, 5, 0, 2, 4, 2, 2, 0, 0, 2, 2, 0, 0],\n       [2, 1, 2, 3, 3, 3, 0, 4, 4, 4, 2, 0, 1, 2, 3, 0, 0]])"
     },
     "execution_count": 9,
     "metadata": {},
     "output_type": "execute_result"
    }
   ],
   "source": [
    "X_test"
   ]
  },
  {
   "cell_type": "code",
   "execution_count": 10,
   "metadata": {},
   "outputs": [
    {
     "data": {
      "text/plain": "array([[3],\n       [5],\n       [3],\n       [2],\n       [2],\n       [2],\n       [3],\n       [4],\n       [2],\n       [3],\n       [4],\n       [4],\n       [4],\n       [2],\n       [4],\n       [5],\n       [5],\n       [3],\n       [3],\n       [3],\n       [3],\n       [4],\n       [3],\n       [2],\n       [2],\n       [3],\n       [4],\n       [3],\n       [4],\n       [3],\n       [5],\n       [4],\n       [3],\n       [2],\n       [3],\n       [3],\n       [3],\n       [3],\n       [1],\n       [4],\n       [4],\n       [4],\n       [3],\n       [3],\n       [2],\n       [4],\n       [5],\n       [4],\n       [4],\n       [3],\n       [4],\n       [2],\n       [4],\n       [2],\n       [3],\n       [3],\n       [4],\n       [3],\n       [4],\n       [4],\n       [3],\n       [4],\n       [3],\n       [2],\n       [2],\n       [4],\n       [4],\n       [4],\n       [3],\n       [4],\n       [5],\n       [4],\n       [1],\n       [4],\n       [4],\n       [2],\n       [3],\n       [5],\n       [2],\n       [1],\n       [2],\n       [3],\n       [4],\n       [2],\n       [3],\n       [2],\n       [5],\n       [2],\n       [2],\n       [3],\n       [4],\n       [3],\n       [2],\n       [4],\n       [2],\n       [5],\n       [2],\n       [4],\n       [5],\n       [4],\n       [2],\n       [4],\n       [3],\n       [3],\n       [2],\n       [4],\n       [3],\n       [3]])"
     },
     "execution_count": 10,
     "metadata": {},
     "output_type": "execute_result"
    }
   ],
   "source": [
    "y_train"
   ]
  },
  {
   "cell_type": "code",
   "execution_count": 11,
   "metadata": {},
   "outputs": [
    {
     "data": {
      "text/plain": "array([[3],\n       [4],\n       [1],\n       [4],\n       [3],\n       [5],\n       [4],\n       [2],\n       [3],\n       [4],\n       [3],\n       [3],\n       [3],\n       [4],\n       [5],\n       [2],\n       [3],\n       [2],\n       [4],\n       [3],\n       [5],\n       [5],\n       [5],\n       [4],\n       [4],\n       [2],\n       [2]])"
     },
     "execution_count": 11,
     "metadata": {},
     "output_type": "execute_result"
    }
   ],
   "source": [
    "y_test"
   ]
  },
  {
   "cell_type": "markdown",
   "metadata": {},
   "source": [
    "# Train model"
   ]
  },
  {
   "cell_type": "code",
   "execution_count": 12,
   "metadata": {},
   "outputs": [],
   "source": [
    "svc = SVC(gamma=0.1, C= 1, class_weight='balanced')\n",
    "svc.fit(X_train, y_train.ravel())\n",
    "y_pred = svc.predict(X_test)"
   ]
  },
  {
   "cell_type": "code",
   "execution_count": 13,
   "metadata": {},
   "outputs": [
    {
     "data": {
      "text/plain": "array([3, 4, 2, 4, 3, 5, 4, 2, 3, 4, 2, 3, 3, 4, 5, 2, 3, 2, 4, 3, 5, 5,\n       5, 4, 4, 2, 2])"
     },
     "execution_count": 13,
     "metadata": {},
     "output_type": "execute_result"
    }
   ],
   "source": [
    "y_pred"
   ]
  },
  {
   "cell_type": "markdown",
   "metadata": {},
   "source": [
    "# Error and Accuracy"
   ]
  },
  {
   "cell_type": "code",
   "execution_count": 14,
   "metadata": {},
   "outputs": [
    {
     "name": "stdout",
     "output_type": "stream",
     "text": [
      "Baseline = 0.31851851851851853\n"
     ]
    }
   ],
   "source": [
    "print(\"Baseline =\", 43/135)"
   ]
  },
  {
   "cell_type": "code",
   "execution_count": 15,
   "metadata": {},
   "outputs": [
    {
     "name": "stdout",
     "output_type": "stream",
     "text": [
      "              precision    recall  f1-score   support\n",
      "\n",
      "           1       1.00      1.00      1.00         3\n",
      "           2       0.83      0.96      0.89        25\n",
      "           3       0.93      0.77      0.84        35\n",
      "           4       0.91      0.86      0.88        35\n",
      "           5       0.71      1.00      0.83        10\n",
      "\n",
      "    accuracy                           0.87       108\n",
      "   macro avg       0.88      0.92      0.89       108\n",
      "weighted avg       0.88      0.87      0.87       108\n",
      "\n"
     ]
    },
    {
     "data": {
      "text/plain": "<Figure size 640x480 with 2 Axes>",
      "image/png": "[encoded data removed]"
     },
     "metadata": {},
     "output_type": "display_data"
    }
   ],
   "source": [
    "# Train data set\n",
    "y_pred_train = svc.predict(X_train)\n",
    "print(classification_report(y_train, y_pred_train))\n",
    "plot_confusion_matrix(svc, X_train, y_train)\n",
    "plt.show()"
   ]
  },
  {
   "cell_type": "code",
   "execution_count": 16,
   "metadata": {},
   "outputs": [
    {
     "name": "stdout",
     "output_type": "stream",
     "text": [
      "              precision    recall  f1-score   support\n",
      "\n",
      "           1       0.00      0.00      0.00         1\n",
      "           2       0.71      1.00      0.83         5\n",
      "           3       1.00      0.88      0.93         8\n",
      "           4       1.00      1.00      1.00         8\n",
      "           5       1.00      1.00      1.00         5\n",
      "\n",
      "    accuracy                           0.93        27\n",
      "   macro avg       0.74      0.78      0.75        27\n",
      "weighted avg       0.91      0.93      0.91        27\n",
      "\n"
     ]
    },
    {
     "data": {
      "text/plain": "<Figure size 640x480 with 2 Axes>",
      "image/png": "[encoded data removed]"
     },
     "metadata": {},
     "output_type": "display_data"
    }
   ],
   "source": [
    "# Test Data set\n",
    "print(classification_report(y_test, y_pred))\n",
    "plot_confusion_matrix(svc, X_test, y_test)\n",
    "plt.show()"
   ]
  }
 ],
 "metadata": {
  "kernelspec": {
   "display_name": "Python 3.9.8 64-bit",
   "language": "python",
   "name": "python3"
  },
  "language_info": {
   "codemirror_mode": {
    "name": "ipython",
    "version": 3
   },
   "file_extension": ".py",
   "mimetype": "text/x-python",
   "name": "python",
   "nbconvert_exporter": "python",
   "pygments_lexer": "ipython3",
   "version": "3.9.8"
  },
  "orig_nbformat": 4,
  "vscode": {
   "interpreter": {
    "hash": "4ac416b27b562b5867faccddb235a79084c5e9545d4465507212042c446ad2d7"
   }
  }
 },
 "nbformat": 4,
 "nbformat_minor": 2
}
